{
 "cells": [
  {
   "cell_type": "code",
   "execution_count": null,
   "id": "5d38436f",
   "metadata": {},
   "outputs": [],
   "source": [
    "import psycopg2\n",
    "import json\n",
    "from decimal import Decimal\n",
    "\n",
    "def convert_to_float(data):\n",
    "    if isinstance(data, dict):\n",
    "        return {convert_to_float(key): convert_to_float(value) for key, value in data.items()}\n",
    "    elif isinstance(data, list):\n",
    "        return [convert_to_float(element) for element in data]\n",
    "    elif isinstance(data, Decimal):\n",
    "        return float(data)  # Convert Decimal to float\n",
    "    return data\n",
    "\n",
    "def get_data2():\n",
    "    conn = psycopg2.connect(\n",
    "        database=\"Candidate_List\",\n",
    "        user=\"postgres\",\n",
    "        password=\"Adduvaith789\",\n",
    "        host=\"localhost\",\n",
    "        port=\"5432\"\n",
    "    )\n",
    "    cursor = conn.cursor()\n",
    "\n",
    "    cursor.execute(\"SELECT COUNT(gender) FROM list WHERE gender='male';\")\n",
    "    rows1a = cursor.fetchone()\n",
    "    male_count = rows1a[0]\n",
    "\n",
    "    cursor.execute(\"SELECT COUNT(gender) FROM list WHERE gender='female';\")\n",
    "    rows2a = cursor.fetchone()\n",
    "    female_count = rows2a[0]\n",
    "\n",
    "    cursor.close()\n",
    "    conn.close()\n",
    "\n",
    "    cols = [\n",
    "        {\"id\": \"\", \"label\": \"Gender Ratio\", \"pattern\": \"\", \"type\": \"string\"},\n",
    "        {\"id\": \"\", \"label\": \"Male VS Female\", \"pattern\": \"\", \"type\": \"number\"}\n",
    "    ]\n",
    "    rows = [\n",
    "        {\"c\": [{\"v\": \"Male\", \"f\": None}, {\"v\": male_count, \"f\": None}]},\n",
    "        {\"c\": [{\"v\": \"Female\", \"f\": None}, {\"v\": female_count, \"f\": None}]}\n",
    "    ]\n",
    "\n",
    "    data = {\n",
    "        \"cols\": cols,\n",
    "        \"rows\": rows\n",
    "    }\n",
    "\n",
    "    return convert_to_float(data)\n",
    "\n",
    "if __name__ == '__main__':\n",
    "    data = get_data2()\n",
    "    json_data = json.dumps(data)\n",
    "    print(json_data)\n"
   ]
  }
 ],
 "metadata": {
  "kernelspec": {
   "display_name": "Python 3",
   "language": "python",
   "name": "python3"
  },
  "language_info": {
   "codemirror_mode": {
    "name": "ipython",
    "version": 3
   },
   "file_extension": ".py",
   "mimetype": "text/x-python",
   "name": "python",
   "nbconvert_exporter": "python",
   "pygments_lexer": "ipython3",
   "version": "3.8.8"
  }
 },
 "nbformat": 4,
 "nbformat_minor": 5
}
