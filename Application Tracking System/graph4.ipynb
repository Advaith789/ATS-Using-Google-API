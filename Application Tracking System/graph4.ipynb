{
 "cells": [
  {
   "cell_type": "code",
   "execution_count": null,
   "id": "1db6c8b3",
   "metadata": {},
   "outputs": [],
   "source": [
    "import psycopg2\n",
    "import json\n",
    "from decimal import Decimal\n",
    "import sys\n",
    "\n",
    "def convert_to_float(data):\n",
    "    if isinstance(data, dict):\n",
    "        return {convert_to_float(key): convert_to_float(value) for key, value in data.items()}\n",
    "    elif isinstance(data, list):\n",
    "        return [convert_to_float(element) for element in data]\n",
    "    elif isinstance(data, Decimal):\n",
    "        return float(data)  # Convert Decimal to float\n",
    "    return data\n",
    "\n",
    "def get_data4():\n",
    "    conn = psycopg2.connect(\n",
    "        database=\"Candidate_List\",\n",
    "        user=\"postgres\",\n",
    "        password=\"Adduvaith789\",\n",
    "        host=\"localhost\",\n",
    "        port=\"5432\"\n",
    "    )\n",
    "    cursor = conn.cursor()\n",
    "\n",
    "    cursor.execute(\"SELECT grade, enter_ctc, CAST(REGEXP_REPLACE(level_, '[^\\d]', '', 'g') AS INT) AS levels FROM list;\")\n",
    "    rows = cursor.fetchall()\n",
    "    data6 = [['Grade', 'Employee CTC', 'Level']]\n",
    "    for row in rows:\n",
    "        data6.append(list(row))\n",
    "\n",
    "    cursor.close()\n",
    "    conn.close()\n",
    "\n",
    "    data = {\n",
    "        \"cols\": [\n",
    "            {\"id\": \"\", \"label\": \"Grade\", \"pattern\": \"\", \"type\": \"string\"},\n",
    "            {\"id\": \"\", \"label\": \"Employee CTC\", \"pattern\": \"\", \"type\": \"number\"},\n",
    "            {\"id\": \"\", \"label\": \"Level\", \"pattern\": \"\", \"type\": \"number\"}\n",
    "        ],\n",
    "        \"rows\": [\n",
    "            {\"c\": [{\"v\": row[0], \"f\": None}, {\"v\": row[1], \"f\": None}, {\"v\": row[2], \"f\": None}]} for row in data6\n",
    "        ]\n",
    "    }\n",
    "\n",
    "    return convert_to_float(data)\n",
    "\n",
    "if __name__ == '__main__':\n",
    "    data = get_data4()\n",
    "    json_data = json.dumps(data)\n",
    "    print(json_data)\n"
   ]
  }
 ],
 "metadata": {
  "kernelspec": {
   "display_name": "Python 3",
   "language": "python",
   "name": "python3"
  },
  "language_info": {
   "codemirror_mode": {
    "name": "ipython",
    "version": 3
   },
   "file_extension": ".py",
   "mimetype": "text/x-python",
   "name": "python",
   "nbconvert_exporter": "python",
   "pygments_lexer": "ipython3",
   "version": "3.8.8"
  }
 },
 "nbformat": 4,
 "nbformat_minor": 5
}
