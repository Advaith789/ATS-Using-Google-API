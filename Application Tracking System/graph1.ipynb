{
 "cells": [
  {
   "cell_type": "code",
   "execution_count": 3,
   "id": "861ec640",
   "metadata": {},
   "outputs": [
    {
     "name": "stdout",
     "output_type": "stream",
     "text": [
      "{\"cols\": [{\"id\": \"\", \"label\": \"Marital Status\", \"pattern\": \"\", \"type\": \"string\"}, {\"id\": \"\", \"label\": \"Married vs Unmarried\", \"pattern\": \"\", \"type\": \"number\"}], \"rows\": [{\"c\": [{\"v\": \"Married\", \"f\": null}, {\"v\": 1008, \"f\": null}]}, {\"c\": [{\"v\": \"Single\", \"f\": null}, {\"v\": 992, \"f\": null}]}]}\n"
     ]
    }
   ],
   "source": [
    "import psycopg2\n",
    "import json\n",
    "from decimal import Decimal\n",
    "\n",
    "def convert_to_float(data):\n",
    "    if isinstance(data, dict):\n",
    "        return {convert_to_float(key): convert_to_float(value) for key, value in data.items()}\n",
    "    elif isinstance(data, list):\n",
    "        return [convert_to_float(element) for element in data]\n",
    "    elif isinstance(data, Decimal):\n",
    "        return float(data)  # Convert Decimal to float\n",
    "    return data\n",
    "\n",
    "def get_data1():\n",
    "    conn = psycopg2.connect(\n",
    "        database=\"Candidate_List\",\n",
    "        user=\"postgres\",\n",
    "        password=\"Adduvaith789\",\n",
    "        host=\"localhost\",\n",
    "        port=\"5432\"\n",
    "    )\n",
    "    cursor = conn.cursor()\n",
    "\n",
    "    cursor.execute(\"SELECT COUNT(*) FROM list WHERE Marital_Status='Married';\")\n",
    "    rows1 = cursor.fetchone()\n",
    "    married_count = rows1[0]\n",
    "\n",
    "    cursor.execute(\"SELECT COUNT(*) FROM list WHERE Marital_Status='Single';\")\n",
    "    rows2 = cursor.fetchone()\n",
    "    single_count = rows2[0]\n",
    "\n",
    "    cursor.close()\n",
    "    conn.close()\n",
    "\n",
    "    cols = [\n",
    "        {\"id\": \"\", \"label\": \"Marital Status\", \"pattern\": \"\", \"type\": \"string\"},\n",
    "        {\"id\": \"\", \"label\": \"Married vs Unmarried\", \"pattern\": \"\", \"type\": \"number\"}\n",
    "    ]\n",
    "    rows = [\n",
    "        {\"c\": [{\"v\": \"Married\", \"f\": None}, {\"v\": married_count, \"f\": None}]},\n",
    "        {\"c\": [{\"v\": \"Single\", \"f\": None}, {\"v\": single_count, \"f\": None}]}\n",
    "    ]\n",
    "\n",
    "    data = {\n",
    "        \"cols\": cols,\n",
    "        \"rows\": rows\n",
    "    }\n",
    "\n",
    "    return convert_to_float(data)\n",
    "\n",
    "if __name__ == '__main__':\n",
    "    data = get_data1()\n",
    "    json_data = json.dumps(data)\n",
    "    print(json_data)\n"
   ]
  },
  {
   "cell_type": "code",
   "execution_count": null,
   "id": "363818c5",
   "metadata": {},
   "outputs": [],
   "source": []
  }
 ],
 "metadata": {
  "kernelspec": {
   "display_name": "Python 3",
   "language": "python",
   "name": "python3"
  },
  "language_info": {
   "codemirror_mode": {
    "name": "ipython",
    "version": 3
   },
   "file_extension": ".py",
   "mimetype": "text/x-python",
   "name": "python",
   "nbconvert_exporter": "python",
   "pygments_lexer": "ipython3",
   "version": "3.8.8"
  }
 },
 "nbformat": 4,
 "nbformat_minor": 5
}
